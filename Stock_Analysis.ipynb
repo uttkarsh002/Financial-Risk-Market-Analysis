{
 "cells": [
  {
   "cell_type": "code",
   "execution_count": 1,
   "id": "1c32972b",
   "metadata": {},
   "outputs": [],
   "source": [
    "import numpy as np\n",
    "import matplotlib.pyplot as plt\n",
    "import pandas as pd\n",
    "import seaborn as sns # for making plots with seaborn\n",
    "color = sns.color_palette()\n",
    "import sklearn.metrics as metrics\n",
    "import warnings\n",
    "warnings.filterwarnings(\"ignore\")"
   ]
  },
  {
   "cell_type": "code",
   "execution_count": 2,
   "id": "f1891c43",
   "metadata": {},
   "outputs": [],
   "source": [
    "df_M=pd.read_csv(\"C:\\Users\\uttka\\Documents\\Market Risk Analytics\\Data-1.csv\")"
   ]
  },
  {
   "cell_type": "code",
   "execution_count": 3,
   "id": "d042acd5",
   "metadata": {},
   "outputs": [
    {
     "data": {
      "text/html": [
       "<div>\n",
       "<style scoped>\n",
       "    .dataframe tbody tr th:only-of-type {\n",
       "        vertical-align: middle;\n",
       "    }\n",
       "\n",
       "    .dataframe tbody tr th {\n",
       "        vertical-align: top;\n",
       "    }\n",
       "\n",
       "    .dataframe thead th {\n",
       "        text-align: right;\n",
       "    }\n",
       "</style>\n",
       "<table border=\"1\" class=\"dataframe\">\n",
       "  <thead>\n",
       "    <tr style=\"text-align: right;\">\n",
       "      <th></th>\n",
       "      <th>Date</th>\n",
       "      <th>Infosys</th>\n",
       "      <th>Indian Hotel</th>\n",
       "      <th>Mahindra &amp; Mahindra</th>\n",
       "      <th>Axis Bank</th>\n",
       "      <th>SAIL</th>\n",
       "      <th>Shree Cement</th>\n",
       "      <th>Sun Pharma</th>\n",
       "      <th>Jindal Steel</th>\n",
       "      <th>Idea Vodafone</th>\n",
       "      <th>Jet Airways</th>\n",
       "    </tr>\n",
       "  </thead>\n",
       "  <tbody>\n",
       "    <tr>\n",
       "      <th>0</th>\n",
       "      <td>31-03-2014</td>\n",
       "      <td>264</td>\n",
       "      <td>69</td>\n",
       "      <td>455</td>\n",
       "      <td>263</td>\n",
       "      <td>68</td>\n",
       "      <td>5543</td>\n",
       "      <td>555</td>\n",
       "      <td>298</td>\n",
       "      <td>83</td>\n",
       "      <td>278</td>\n",
       "    </tr>\n",
       "    <tr>\n",
       "      <th>1</th>\n",
       "      <td>07-04-2014</td>\n",
       "      <td>257</td>\n",
       "      <td>68</td>\n",
       "      <td>458</td>\n",
       "      <td>276</td>\n",
       "      <td>70</td>\n",
       "      <td>5728</td>\n",
       "      <td>610</td>\n",
       "      <td>279</td>\n",
       "      <td>84</td>\n",
       "      <td>303</td>\n",
       "    </tr>\n",
       "    <tr>\n",
       "      <th>2</th>\n",
       "      <td>14-04-2014</td>\n",
       "      <td>254</td>\n",
       "      <td>68</td>\n",
       "      <td>454</td>\n",
       "      <td>270</td>\n",
       "      <td>68</td>\n",
       "      <td>5649</td>\n",
       "      <td>607</td>\n",
       "      <td>279</td>\n",
       "      <td>83</td>\n",
       "      <td>280</td>\n",
       "    </tr>\n",
       "    <tr>\n",
       "      <th>3</th>\n",
       "      <td>21-04-2014</td>\n",
       "      <td>253</td>\n",
       "      <td>68</td>\n",
       "      <td>488</td>\n",
       "      <td>283</td>\n",
       "      <td>68</td>\n",
       "      <td>5692</td>\n",
       "      <td>604</td>\n",
       "      <td>274</td>\n",
       "      <td>83</td>\n",
       "      <td>282</td>\n",
       "    </tr>\n",
       "    <tr>\n",
       "      <th>4</th>\n",
       "      <td>28-04-2014</td>\n",
       "      <td>256</td>\n",
       "      <td>65</td>\n",
       "      <td>482</td>\n",
       "      <td>282</td>\n",
       "      <td>63</td>\n",
       "      <td>5582</td>\n",
       "      <td>611</td>\n",
       "      <td>238</td>\n",
       "      <td>79</td>\n",
       "      <td>243</td>\n",
       "    </tr>\n",
       "  </tbody>\n",
       "</table>\n",
       "</div>"
      ],
      "text/plain": [
       "         Date  Infosys  Indian Hotel  Mahindra & Mahindra  Axis Bank  SAIL  \\\n",
       "0  31-03-2014      264            69                  455        263    68   \n",
       "1  07-04-2014      257            68                  458        276    70   \n",
       "2  14-04-2014      254            68                  454        270    68   \n",
       "3  21-04-2014      253            68                  488        283    68   \n",
       "4  28-04-2014      256            65                  482        282    63   \n",
       "\n",
       "   Shree Cement  Sun Pharma  Jindal Steel  Idea Vodafone  Jet Airways  \n",
       "0          5543         555           298             83          278  \n",
       "1          5728         610           279             84          303  \n",
       "2          5649         607           279             83          280  \n",
       "3          5692         604           274             83          282  \n",
       "4          5582         611           238             79          243  "
      ]
     },
     "execution_count": 3,
     "metadata": {},
     "output_type": "execute_result"
    }
   ],
   "source": [
    "df_M.head()"
   ]
  },
  {
   "cell_type": "code",
   "execution_count": 4,
   "id": "c1560eef",
   "metadata": {},
   "outputs": [
    {
     "data": {
      "text/html": [
       "<div>\n",
       "<style scoped>\n",
       "    .dataframe tbody tr th:only-of-type {\n",
       "        vertical-align: middle;\n",
       "    }\n",
       "\n",
       "    .dataframe tbody tr th {\n",
       "        vertical-align: top;\n",
       "    }\n",
       "\n",
       "    .dataframe thead th {\n",
       "        text-align: right;\n",
       "    }\n",
       "</style>\n",
       "<table border=\"1\" class=\"dataframe\">\n",
       "  <thead>\n",
       "    <tr style=\"text-align: right;\">\n",
       "      <th></th>\n",
       "      <th>Date</th>\n",
       "      <th>Infosys</th>\n",
       "      <th>Indian Hotel</th>\n",
       "      <th>Mahindra &amp; Mahindra</th>\n",
       "      <th>Axis Bank</th>\n",
       "      <th>SAIL</th>\n",
       "      <th>Shree Cement</th>\n",
       "      <th>Sun Pharma</th>\n",
       "      <th>Jindal Steel</th>\n",
       "      <th>Idea Vodafone</th>\n",
       "      <th>Jet Airways</th>\n",
       "    </tr>\n",
       "  </thead>\n",
       "  <tbody>\n",
       "    <tr>\n",
       "      <th>309</th>\n",
       "      <td>02-03-2020</td>\n",
       "      <td>729</td>\n",
       "      <td>120</td>\n",
       "      <td>469</td>\n",
       "      <td>658</td>\n",
       "      <td>33</td>\n",
       "      <td>23110</td>\n",
       "      <td>401</td>\n",
       "      <td>146</td>\n",
       "      <td>3</td>\n",
       "      <td>22</td>\n",
       "    </tr>\n",
       "    <tr>\n",
       "      <th>310</th>\n",
       "      <td>09-03-2020</td>\n",
       "      <td>634</td>\n",
       "      <td>114</td>\n",
       "      <td>427</td>\n",
       "      <td>569</td>\n",
       "      <td>30</td>\n",
       "      <td>21308</td>\n",
       "      <td>384</td>\n",
       "      <td>121</td>\n",
       "      <td>6</td>\n",
       "      <td>18</td>\n",
       "    </tr>\n",
       "    <tr>\n",
       "      <th>311</th>\n",
       "      <td>16-03-2020</td>\n",
       "      <td>577</td>\n",
       "      <td>90</td>\n",
       "      <td>321</td>\n",
       "      <td>428</td>\n",
       "      <td>27</td>\n",
       "      <td>18904</td>\n",
       "      <td>365</td>\n",
       "      <td>105</td>\n",
       "      <td>3</td>\n",
       "      <td>16</td>\n",
       "    </tr>\n",
       "    <tr>\n",
       "      <th>312</th>\n",
       "      <td>23-03-2020</td>\n",
       "      <td>644</td>\n",
       "      <td>75</td>\n",
       "      <td>293</td>\n",
       "      <td>360</td>\n",
       "      <td>21</td>\n",
       "      <td>17666</td>\n",
       "      <td>338</td>\n",
       "      <td>89</td>\n",
       "      <td>3</td>\n",
       "      <td>14</td>\n",
       "    </tr>\n",
       "    <tr>\n",
       "      <th>313</th>\n",
       "      <td>30-03-2020</td>\n",
       "      <td>633</td>\n",
       "      <td>75</td>\n",
       "      <td>284</td>\n",
       "      <td>379</td>\n",
       "      <td>23</td>\n",
       "      <td>17546</td>\n",
       "      <td>352</td>\n",
       "      <td>82</td>\n",
       "      <td>3</td>\n",
       "      <td>14</td>\n",
       "    </tr>\n",
       "  </tbody>\n",
       "</table>\n",
       "</div>"
      ],
      "text/plain": [
       "           Date  Infosys  Indian Hotel  Mahindra & Mahindra  Axis Bank  SAIL  \\\n",
       "309  02-03-2020      729           120                  469        658    33   \n",
       "310  09-03-2020      634           114                  427        569    30   \n",
       "311  16-03-2020      577            90                  321        428    27   \n",
       "312  23-03-2020      644            75                  293        360    21   \n",
       "313  30-03-2020      633            75                  284        379    23   \n",
       "\n",
       "     Shree Cement  Sun Pharma  Jindal Steel  Idea Vodafone  Jet Airways  \n",
       "309         23110         401           146              3           22  \n",
       "310         21308         384           121              6           18  \n",
       "311         18904         365           105              3           16  \n",
       "312         17666         338            89              3           14  \n",
       "313         17546         352            82              3           14  "
      ]
     },
     "execution_count": 4,
     "metadata": {},
     "output_type": "execute_result"
    }
   ],
   "source": [
    "df_M.tail()"
   ]
  },
  {
   "cell_type": "markdown",
   "id": "29ad8516",
   "metadata": {},
   "source": [
    "# Fixing messy column names (containing spaces) for ease of use"
   ]
  },
  {
   "cell_type": "code",
   "execution_count": 5,
   "id": "6f47dcdc",
   "metadata": {},
   "outputs": [],
   "source": [
    "df_M.columns = df_M.columns.str.replace(' ', '_').str.replace('&','and')"
   ]
  },
  {
   "cell_type": "code",
   "execution_count": 6,
   "id": "6043c113",
   "metadata": {},
   "outputs": [
    {
     "data": {
      "text/plain": [
       "Index(['Date', 'Infosys', 'Indian_Hotel', 'Mahindra_and_Mahindra', 'Axis_Bank',\n",
       "       'SAIL', 'Shree_Cement', 'Sun_Pharma', 'Jindal_Steel', 'Idea_Vodafone',\n",
       "       'Jet_Airways'],\n",
       "      dtype='object')"
      ]
     },
     "execution_count": 6,
     "metadata": {},
     "output_type": "execute_result"
    }
   ],
   "source": [
    "df_M.columns"
   ]
  },
  {
   "cell_type": "code",
   "execution_count": 7,
   "id": "7f70efce",
   "metadata": {},
   "outputs": [
    {
     "name": "stdout",
     "output_type": "stream",
     "text": [
      "<class 'pandas.core.frame.DataFrame'>\n",
      "RangeIndex: 314 entries, 0 to 313\n",
      "Data columns (total 11 columns):\n",
      " #   Column                 Non-Null Count  Dtype \n",
      "---  ------                 --------------  ----- \n",
      " 0   Date                   314 non-null    object\n",
      " 1   Infosys                314 non-null    int64 \n",
      " 2   Indian_Hotel           314 non-null    int64 \n",
      " 3   Mahindra_and_Mahindra  314 non-null    int64 \n",
      " 4   Axis_Bank              314 non-null    int64 \n",
      " 5   SAIL                   314 non-null    int64 \n",
      " 6   Shree_Cement           314 non-null    int64 \n",
      " 7   Sun_Pharma             314 non-null    int64 \n",
      " 8   Jindal_Steel           314 non-null    int64 \n",
      " 9   Idea_Vodafone          314 non-null    int64 \n",
      " 10  Jet_Airways            314 non-null    int64 \n",
      "dtypes: int64(10), object(1)\n",
      "memory usage: 27.1+ KB\n"
     ]
    }
   ],
   "source": [
    "df_M.info()"
   ]
  },
  {
   "cell_type": "code",
   "execution_count": 8,
   "id": "f9fadb9f",
   "metadata": {},
   "outputs": [
    {
     "data": {
      "text/html": [
       "<div>\n",
       "<style scoped>\n",
       "    .dataframe tbody tr th:only-of-type {\n",
       "        vertical-align: middle;\n",
       "    }\n",
       "\n",
       "    .dataframe tbody tr th {\n",
       "        vertical-align: top;\n",
       "    }\n",
       "\n",
       "    .dataframe thead th {\n",
       "        text-align: right;\n",
       "    }\n",
       "</style>\n",
       "<table border=\"1\" class=\"dataframe\">\n",
       "  <thead>\n",
       "    <tr style=\"text-align: right;\">\n",
       "      <th></th>\n",
       "      <th>Infosys</th>\n",
       "      <th>Indian_Hotel</th>\n",
       "      <th>Mahindra_and_Mahindra</th>\n",
       "      <th>Axis_Bank</th>\n",
       "      <th>SAIL</th>\n",
       "      <th>Shree_Cement</th>\n",
       "      <th>Sun_Pharma</th>\n",
       "      <th>Jindal_Steel</th>\n",
       "      <th>Idea_Vodafone</th>\n",
       "      <th>Jet_Airways</th>\n",
       "    </tr>\n",
       "  </thead>\n",
       "  <tbody>\n",
       "    <tr>\n",
       "      <th>count</th>\n",
       "      <td>314.000000</td>\n",
       "      <td>314.000000</td>\n",
       "      <td>314.000000</td>\n",
       "      <td>314.000000</td>\n",
       "      <td>314.000000</td>\n",
       "      <td>314.000000</td>\n",
       "      <td>314.000000</td>\n",
       "      <td>314.000000</td>\n",
       "      <td>314.000000</td>\n",
       "      <td>314.000000</td>\n",
       "    </tr>\n",
       "    <tr>\n",
       "      <th>mean</th>\n",
       "      <td>511.340764</td>\n",
       "      <td>114.560510</td>\n",
       "      <td>636.678344</td>\n",
       "      <td>540.742038</td>\n",
       "      <td>59.095541</td>\n",
       "      <td>14806.410828</td>\n",
       "      <td>633.468153</td>\n",
       "      <td>147.627389</td>\n",
       "      <td>53.713376</td>\n",
       "      <td>372.659236</td>\n",
       "    </tr>\n",
       "    <tr>\n",
       "      <th>std</th>\n",
       "      <td>135.952051</td>\n",
       "      <td>22.509732</td>\n",
       "      <td>102.879975</td>\n",
       "      <td>115.835569</td>\n",
       "      <td>15.810493</td>\n",
       "      <td>4288.275085</td>\n",
       "      <td>171.855893</td>\n",
       "      <td>65.879195</td>\n",
       "      <td>31.248985</td>\n",
       "      <td>202.262668</td>\n",
       "    </tr>\n",
       "    <tr>\n",
       "      <th>min</th>\n",
       "      <td>234.000000</td>\n",
       "      <td>64.000000</td>\n",
       "      <td>284.000000</td>\n",
       "      <td>263.000000</td>\n",
       "      <td>21.000000</td>\n",
       "      <td>5543.000000</td>\n",
       "      <td>338.000000</td>\n",
       "      <td>53.000000</td>\n",
       "      <td>3.000000</td>\n",
       "      <td>14.000000</td>\n",
       "    </tr>\n",
       "    <tr>\n",
       "      <th>25%</th>\n",
       "      <td>424.000000</td>\n",
       "      <td>96.000000</td>\n",
       "      <td>572.000000</td>\n",
       "      <td>470.500000</td>\n",
       "      <td>47.000000</td>\n",
       "      <td>10952.250000</td>\n",
       "      <td>478.500000</td>\n",
       "      <td>88.250000</td>\n",
       "      <td>25.250000</td>\n",
       "      <td>243.250000</td>\n",
       "    </tr>\n",
       "    <tr>\n",
       "      <th>50%</th>\n",
       "      <td>466.500000</td>\n",
       "      <td>115.000000</td>\n",
       "      <td>625.000000</td>\n",
       "      <td>528.000000</td>\n",
       "      <td>57.000000</td>\n",
       "      <td>16018.500000</td>\n",
       "      <td>614.000000</td>\n",
       "      <td>142.500000</td>\n",
       "      <td>53.000000</td>\n",
       "      <td>376.000000</td>\n",
       "    </tr>\n",
       "    <tr>\n",
       "      <th>75%</th>\n",
       "      <td>630.750000</td>\n",
       "      <td>134.000000</td>\n",
       "      <td>678.000000</td>\n",
       "      <td>605.250000</td>\n",
       "      <td>71.750000</td>\n",
       "      <td>17773.250000</td>\n",
       "      <td>785.000000</td>\n",
       "      <td>182.750000</td>\n",
       "      <td>82.000000</td>\n",
       "      <td>534.000000</td>\n",
       "    </tr>\n",
       "    <tr>\n",
       "      <th>max</th>\n",
       "      <td>810.000000</td>\n",
       "      <td>157.000000</td>\n",
       "      <td>956.000000</td>\n",
       "      <td>808.000000</td>\n",
       "      <td>104.000000</td>\n",
       "      <td>24806.000000</td>\n",
       "      <td>1089.000000</td>\n",
       "      <td>338.000000</td>\n",
       "      <td>117.000000</td>\n",
       "      <td>871.000000</td>\n",
       "    </tr>\n",
       "  </tbody>\n",
       "</table>\n",
       "</div>"
      ],
      "text/plain": [
       "          Infosys  Indian_Hotel  Mahindra_and_Mahindra   Axis_Bank  \\\n",
       "count  314.000000    314.000000             314.000000  314.000000   \n",
       "mean   511.340764    114.560510             636.678344  540.742038   \n",
       "std    135.952051     22.509732             102.879975  115.835569   \n",
       "min    234.000000     64.000000             284.000000  263.000000   \n",
       "25%    424.000000     96.000000             572.000000  470.500000   \n",
       "50%    466.500000    115.000000             625.000000  528.000000   \n",
       "75%    630.750000    134.000000             678.000000  605.250000   \n",
       "max    810.000000    157.000000             956.000000  808.000000   \n",
       "\n",
       "             SAIL  Shree_Cement   Sun_Pharma  Jindal_Steel  Idea_Vodafone  \\\n",
       "count  314.000000    314.000000   314.000000    314.000000     314.000000   \n",
       "mean    59.095541  14806.410828   633.468153    147.627389      53.713376   \n",
       "std     15.810493   4288.275085   171.855893     65.879195      31.248985   \n",
       "min     21.000000   5543.000000   338.000000     53.000000       3.000000   \n",
       "25%     47.000000  10952.250000   478.500000     88.250000      25.250000   \n",
       "50%     57.000000  16018.500000   614.000000    142.500000      53.000000   \n",
       "75%     71.750000  17773.250000   785.000000    182.750000      82.000000   \n",
       "max    104.000000  24806.000000  1089.000000    338.000000     117.000000   \n",
       "\n",
       "       Jet_Airways  \n",
       "count   314.000000  \n",
       "mean    372.659236  \n",
       "std     202.262668  \n",
       "min      14.000000  \n",
       "25%     243.250000  \n",
       "50%     376.000000  \n",
       "75%     534.000000  \n",
       "max     871.000000  "
      ]
     },
     "execution_count": 8,
     "metadata": {},
     "output_type": "execute_result"
    }
   ],
   "source": [
    "df_M.describe()"
   ]
  },
  {
   "cell_type": "code",
   "execution_count": 9,
   "id": "9e6ba48f",
   "metadata": {
    "scrolled": true
   },
   "outputs": [
    {
     "name": "stdout",
     "output_type": "stream",
     "text": [
      "The number of rows (observations) is 314 \n",
      "The number of columns (variables) is 11\n"
     ]
    }
   ],
   "source": [
    "print('The number of rows (observations) is',df_M.shape[0],'\\n''The number of columns (variables) is',df_M.shape[1])"
   ]
  },
  {
   "cell_type": "code",
   "execution_count": 10,
   "id": "0b3499f4",
   "metadata": {},
   "outputs": [
    {
     "data": {
      "text/plain": [
       "0"
      ]
     },
     "execution_count": 10,
     "metadata": {},
     "output_type": "execute_result"
    }
   ],
   "source": [
    "df_M.duplicated().sum()"
   ]
  },
  {
   "cell_type": "markdown",
   "id": "41d67488",
   "metadata": {},
   "source": [
    "# PART B: Draw Stock Price Graph(Stock Price vs Time) for any 2 given stocks with inference"
   ]
  },
  {
   "cell_type": "markdown",
   "id": "484198b1",
   "metadata": {},
   "source": [
    "### Lets us plot & see price trend over time for different companies"
   ]
  },
  {
   "cell_type": "markdown",
   "id": "50da62d7",
   "metadata": {},
   "source": [
    "### Changing format of 'Date' variable from object to Datetime"
   ]
  },
  {
   "cell_type": "code",
   "execution_count": 22,
   "id": "5d0e8cd2",
   "metadata": {},
   "outputs": [
    {
     "data": {
      "image/png": "[encoded data removed]",
      "text/plain": [
       "<Figure size 720x576 with 1 Axes>"
      ]
     },
     "metadata": {
      "needs_background": "light"
     },
     "output_type": "display_data"
    }
   ],
   "source": [
    "plt.figure(figsize = (10, 8))\n",
    "df_M['dates'] = [pd.to_datetime(d) for d in df_M['Date']]\n",
    "plt.scatter(df_M['dates'], df_M['Infosys'], edgecolors='r')\n",
    "plt.xlabel('Year')\n",
    "plt.ylabel('Infosys')\n",
    "plt.title('Infosys over the years')\n",
    "plt.show()"
   ]
  },
  {
   "cell_type": "code",
   "execution_count": 23,
   "id": "9a6fdc49",
   "metadata": {
    "scrolled": true
   },
   "outputs": [
    {
     "data": {
      "image/png": "[encoded data removed]",
      "text/plain": [
       "<Figure size 720x576 with 1 Axes>"
      ]
     },
     "metadata": {
      "needs_background": "light"
     },
     "output_type": "display_data"
    }
   ],
   "source": [
    "plt.figure(figsize = (10, 8))\n",
    "df_M['dates'] = [pd.to_datetime(d) for d in df_M['Date']]\n",
    "plt.scatter(df_M['dates'], df_M['Indian_Hotel'], edgecolors='r', color = 'black')\n",
    "plt.xlabel('Year')\n",
    "plt.ylabel('Indian_Hotel')\n",
    "plt.title('Indian_Hotel over the years')\n",
    "plt.show()"
   ]
  },
  {
   "cell_type": "markdown",
   "id": "8cf89754",
   "metadata": {},
   "source": [
    "# PART B: Calculate Returns for all stocks with inference"
   ]
  },
  {
   "cell_type": "code",
   "execution_count": 24,
   "id": "6b29bac0",
   "metadata": {},
   "outputs": [],
   "source": [
    "stock_returns = np.log(df_M.drop(['Date','dates'],axis=1)).diff(axis = 0, periods = 1) "
   ]
  },
  {
   "cell_type": "code",
   "execution_count": 25,
   "id": "d2a9a4a3",
   "metadata": {},
   "outputs": [
    {
     "data": {
      "text/plain": [
       "(314, 10)"
      ]
     },
     "execution_count": 25,
     "metadata": {},
     "output_type": "execute_result"
    }
   ],
   "source": [
    "stock_returns.shape"
   ]
  },
  {
   "cell_type": "code",
   "execution_count": 26,
   "id": "901a6b71",
   "metadata": {},
   "outputs": [
    {
     "data": {
      "text/html": [
       "<div>\n",
       "<style scoped>\n",
       "    .dataframe tbody tr th:only-of-type {\n",
       "        vertical-align: middle;\n",
       "    }\n",
       "\n",
       "    .dataframe tbody tr th {\n",
       "        vertical-align: top;\n",
       "    }\n",
       "\n",
       "    .dataframe thead th {\n",
       "        text-align: right;\n",
       "    }\n",
       "</style>\n",
       "<table border=\"1\" class=\"dataframe\">\n",
       "  <thead>\n",
       "    <tr style=\"text-align: right;\">\n",
       "      <th></th>\n",
       "      <th>Infosys</th>\n",
       "      <th>Indian_Hotel</th>\n",
       "      <th>Mahindra_and_Mahindra</th>\n",
       "      <th>Axis_Bank</th>\n",
       "      <th>SAIL</th>\n",
       "      <th>Shree_Cement</th>\n",
       "      <th>Sun_Pharma</th>\n",
       "      <th>Jindal_Steel</th>\n",
       "      <th>Idea_Vodafone</th>\n",
       "      <th>Jet_Airways</th>\n",
       "    </tr>\n",
       "  </thead>\n",
       "  <tbody>\n",
       "    <tr>\n",
       "      <th>0</th>\n",
       "      <td>NaN</td>\n",
       "      <td>NaN</td>\n",
       "      <td>NaN</td>\n",
       "      <td>NaN</td>\n",
       "      <td>NaN</td>\n",
       "      <td>NaN</td>\n",
       "      <td>NaN</td>\n",
       "      <td>NaN</td>\n",
       "      <td>NaN</td>\n",
       "      <td>NaN</td>\n",
       "    </tr>\n",
       "    <tr>\n",
       "      <th>1</th>\n",
       "      <td>-0.026873</td>\n",
       "      <td>-0.014599</td>\n",
       "      <td>0.006572</td>\n",
       "      <td>0.048247</td>\n",
       "      <td>0.028988</td>\n",
       "      <td>0.032831</td>\n",
       "      <td>0.094491</td>\n",
       "      <td>-0.065882</td>\n",
       "      <td>0.011976</td>\n",
       "      <td>0.086112</td>\n",
       "    </tr>\n",
       "    <tr>\n",
       "      <th>2</th>\n",
       "      <td>-0.011742</td>\n",
       "      <td>0.000000</td>\n",
       "      <td>-0.008772</td>\n",
       "      <td>-0.021979</td>\n",
       "      <td>-0.028988</td>\n",
       "      <td>-0.013888</td>\n",
       "      <td>-0.004930</td>\n",
       "      <td>0.000000</td>\n",
       "      <td>-0.011976</td>\n",
       "      <td>-0.078943</td>\n",
       "    </tr>\n",
       "    <tr>\n",
       "      <th>3</th>\n",
       "      <td>-0.003945</td>\n",
       "      <td>0.000000</td>\n",
       "      <td>0.072218</td>\n",
       "      <td>0.047025</td>\n",
       "      <td>0.000000</td>\n",
       "      <td>0.007583</td>\n",
       "      <td>-0.004955</td>\n",
       "      <td>-0.018084</td>\n",
       "      <td>0.000000</td>\n",
       "      <td>0.007117</td>\n",
       "    </tr>\n",
       "    <tr>\n",
       "      <th>4</th>\n",
       "      <td>0.011788</td>\n",
       "      <td>-0.045120</td>\n",
       "      <td>-0.012371</td>\n",
       "      <td>-0.003540</td>\n",
       "      <td>-0.076373</td>\n",
       "      <td>-0.019515</td>\n",
       "      <td>0.011523</td>\n",
       "      <td>-0.140857</td>\n",
       "      <td>-0.049393</td>\n",
       "      <td>-0.148846</td>\n",
       "    </tr>\n",
       "  </tbody>\n",
       "</table>\n",
       "</div>"
      ],
      "text/plain": [
       "    Infosys  Indian_Hotel  Mahindra_and_Mahindra  Axis_Bank      SAIL  \\\n",
       "0       NaN           NaN                    NaN        NaN       NaN   \n",
       "1 -0.026873     -0.014599               0.006572   0.048247  0.028988   \n",
       "2 -0.011742      0.000000              -0.008772  -0.021979 -0.028988   \n",
       "3 -0.003945      0.000000               0.072218   0.047025  0.000000   \n",
       "4  0.011788     -0.045120              -0.012371  -0.003540 -0.076373   \n",
       "\n",
       "   Shree_Cement  Sun_Pharma  Jindal_Steel  Idea_Vodafone  Jet_Airways  \n",
       "0           NaN         NaN           NaN            NaN          NaN  \n",
       "1      0.032831    0.094491     -0.065882       0.011976     0.086112  \n",
       "2     -0.013888   -0.004930      0.000000      -0.011976    -0.078943  \n",
       "3      0.007583   -0.004955     -0.018084       0.000000     0.007117  \n",
       "4     -0.019515    0.011523     -0.140857      -0.049393    -0.148846  "
      ]
     },
     "execution_count": 26,
     "metadata": {},
     "output_type": "execute_result"
    }
   ],
   "source": [
    "stock_returns.head()"
   ]
  },
  {
   "cell_type": "markdown",
   "id": "a1fe874f",
   "metadata": {},
   "source": [
    "# PART B: Calculate Stock Means and Standard Deviation for all stocks with inference"
   ]
  },
  {
   "cell_type": "markdown",
   "id": "c2edf47c",
   "metadata": {},
   "source": [
    "### Calculating stock means"
   ]
  },
  {
   "cell_type": "code",
   "execution_count": 27,
   "id": "826b124d",
   "metadata": {},
   "outputs": [
    {
     "data": {
      "text/plain": [
       "Infosys                  0.00279\n",
       "Indian_Hotel             0.00027\n",
       "Mahindra_and_Mahindra   -0.00151\n",
       "Axis_Bank                0.00117\n",
       "SAIL                    -0.00346\n",
       "Shree_Cement             0.00368\n",
       "Sun_Pharma              -0.00145\n",
       "Jindal_Steel            -0.00412\n",
       "Idea_Vodafone           -0.01061\n",
       "Jet_Airways             -0.00955\n",
       "dtype: float64"
      ]
     },
     "execution_count": 27,
     "metadata": {},
     "output_type": "execute_result"
    }
   ],
   "source": [
    "stock_means = stock_returns.mean(axis = 0).round(5)\n",
    "stock_means"
   ]
  },
  {
   "cell_type": "markdown",
   "id": "6ef5cf4c",
   "metadata": {},
   "source": [
    "### Calculating stock standard Deviation"
   ]
  },
  {
   "cell_type": "code",
   "execution_count": 28,
   "id": "c089cf19",
   "metadata": {},
   "outputs": [
    {
     "data": {
      "text/plain": [
       "Infosys                  0.03507\n",
       "Indian_Hotel             0.04713\n",
       "Mahindra_and_Mahindra    0.04017\n",
       "Axis_Bank                0.04583\n",
       "SAIL                     0.06219\n",
       "Shree_Cement             0.03992\n",
       "Sun_Pharma               0.04503\n",
       "Jindal_Steel             0.07511\n",
       "Idea_Vodafone            0.10432\n",
       "Jet_Airways              0.09797\n",
       "dtype: float64"
      ]
     },
     "execution_count": 28,
     "metadata": {},
     "output_type": "execute_result"
    }
   ],
   "source": [
    "stock_std = stock_returns.std(axis = 0).round(5)\n",
    "stock_std"
   ]
  },
  {
   "cell_type": "markdown",
   "id": "c4dfb9b0",
   "metadata": {},
   "source": [
    "# PART B: Draw a plot of Stock Means vs Standard Deviation and state your inference"
   ]
  },
  {
   "cell_type": "code",
   "execution_count": 29,
   "id": "078df9ca",
   "metadata": {},
   "outputs": [
    {
     "data": {
      "text/html": [
       "<div>\n",
       "<style scoped>\n",
       "    .dataframe tbody tr th:only-of-type {\n",
       "        vertical-align: middle;\n",
       "    }\n",
       "\n",
       "    .dataframe tbody tr th {\n",
       "        vertical-align: top;\n",
       "    }\n",
       "\n",
       "    .dataframe thead th {\n",
       "        text-align: right;\n",
       "    }\n",
       "</style>\n",
       "<table border=\"1\" class=\"dataframe\">\n",
       "  <thead>\n",
       "    <tr style=\"text-align: right;\">\n",
       "      <th></th>\n",
       "      <th>Average</th>\n",
       "      <th>Volatility</th>\n",
       "    </tr>\n",
       "  </thead>\n",
       "  <tbody>\n",
       "    <tr>\n",
       "      <th>Infosys</th>\n",
       "      <td>0.00279</td>\n",
       "      <td>0.03507</td>\n",
       "    </tr>\n",
       "    <tr>\n",
       "      <th>Indian_Hotel</th>\n",
       "      <td>0.00027</td>\n",
       "      <td>0.04713</td>\n",
       "    </tr>\n",
       "    <tr>\n",
       "      <th>Mahindra_and_Mahindra</th>\n",
       "      <td>-0.00151</td>\n",
       "      <td>0.04017</td>\n",
       "    </tr>\n",
       "    <tr>\n",
       "      <th>Axis_Bank</th>\n",
       "      <td>0.00117</td>\n",
       "      <td>0.04583</td>\n",
       "    </tr>\n",
       "    <tr>\n",
       "      <th>SAIL</th>\n",
       "      <td>-0.00346</td>\n",
       "      <td>0.06219</td>\n",
       "    </tr>\n",
       "    <tr>\n",
       "      <th>Shree_Cement</th>\n",
       "      <td>0.00368</td>\n",
       "      <td>0.03992</td>\n",
       "    </tr>\n",
       "    <tr>\n",
       "      <th>Sun_Pharma</th>\n",
       "      <td>-0.00145</td>\n",
       "      <td>0.04503</td>\n",
       "    </tr>\n",
       "    <tr>\n",
       "      <th>Jindal_Steel</th>\n",
       "      <td>-0.00412</td>\n",
       "      <td>0.07511</td>\n",
       "    </tr>\n",
       "    <tr>\n",
       "      <th>Idea_Vodafone</th>\n",
       "      <td>-0.01061</td>\n",
       "      <td>0.10432</td>\n",
       "    </tr>\n",
       "    <tr>\n",
       "      <th>Jet_Airways</th>\n",
       "      <td>-0.00955</td>\n",
       "      <td>0.09797</td>\n",
       "    </tr>\n",
       "  </tbody>\n",
       "</table>\n",
       "</div>"
      ],
      "text/plain": [
       "                       Average  Volatility\n",
       "Infosys                0.00279     0.03507\n",
       "Indian_Hotel           0.00027     0.04713\n",
       "Mahindra_and_Mahindra -0.00151     0.04017\n",
       "Axis_Bank              0.00117     0.04583\n",
       "SAIL                  -0.00346     0.06219\n",
       "Shree_Cement           0.00368     0.03992\n",
       "Sun_Pharma            -0.00145     0.04503\n",
       "Jindal_Steel          -0.00412     0.07511\n",
       "Idea_Vodafone         -0.01061     0.10432\n",
       "Jet_Airways           -0.00955     0.09797"
      ]
     },
     "execution_count": 29,
     "metadata": {},
     "output_type": "execute_result"
    }
   ],
   "source": [
    "df = pd.DataFrame({'Average':stock_means, 'Volatility': stock_std})\n",
    "df"
   ]
  },
  {
   "cell_type": "code",
   "execution_count": 31,
   "id": "fada5e96",
   "metadata": {},
   "outputs": [
    {
     "data": {
      "image/png": "[encoded data removed]",
      "text/plain": [
       "<Figure size 432x288 with 1 Axes>"
      ]
     },
     "metadata": {
      "needs_background": "light"
     },
     "output_type": "display_data"
    }
   ],
   "source": [
    "#plt.scatter(stock_sd, stock_means, edgecolors='r')\n",
    "plot = sns.scatterplot(df['Volatility'], df['Average'])\n",
    "plot.axvline(x=0,linestyle='--', color = \"red\")\n",
    "plot.axhline(y=0,linestyle='--', color = \"red\")\n",
    "plt.show()"
   ]
  },
  {
   "cell_type": "code",
   "execution_count": null,
   "id": "9985eead",
   "metadata": {},
   "outputs": [],
   "source": []
  }
 ],
 "metadata": {
  "kernelspec": {
   "display_name": "Python 3 (ipykernel)",
   "language": "python",
   "name": "python3"
  },
  "language_info": {
   "codemirror_mode": {
    "name": "ipython",
    "version": 3
   },
   "file_extension": ".py",
   "mimetype": "text/x-python",
   "name": "python",
   "nbconvert_exporter": "python",
   "pygments_lexer": "ipython3",
   "version": "3.9.12"
  }
 },
 "nbformat": 4,
 "nbformat_minor": 5
}
